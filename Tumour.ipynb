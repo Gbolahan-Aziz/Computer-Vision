{
 "cells": [
  {
   "cell_type": "code",
   "execution_count": 1,
   "metadata": {},
   "outputs": [
    {
     "name": "stderr",
     "output_type": "stream",
     "text": [
      "Using TensorFlow backend.\n"
     ]
    }
   ],
   "source": [
    "import tensorflow as tf \n",
    "import numpy as np\n",
    "from tensorflow import keras\n",
    "import os\n",
    "import random \n",
    "import shutil\n",
    "from keras.preprocessing import image\n",
    "import matplotlib.image as mpimg\n",
    "import matplotlib.pyplot as plt"
   ]
  },
  {
   "cell_type": "code",
   "execution_count": 2,
   "metadata": {},
   "outputs": [
    {
     "name": "stdout",
     "output_type": "stream",
     "text": [
      "826\n",
      "822\n",
      "395\n",
      "827\n"
     ]
    }
   ],
   "source": [
    "print(len(os.listdir('C:/Users/hp/Desktop/Tumor/Training/glioma_tumor')))\n",
    "print(len(os.listdir('C:/Users/hp/Desktop/Tumor/Training/meningioma_tumor')))\n",
    "print(len(os.listdir('C:/Users/hp/Desktop/Tumor/Training/no_tumor')))\n",
    "print(len(os.listdir('C:/Users/hp/Desktop/Tumor/Training/pituitary_tumor')))"
   ]
  },
  {
   "cell_type": "code",
   "execution_count": 3,
   "metadata": {},
   "outputs": [
    {
     "name": "stdout",
     "output_type": "stream",
     "text": [
      "100\n",
      "115\n",
      "105\n",
      "74\n"
     ]
    }
   ],
   "source": [
    "print(len(os.listdir('C:/Users/hp/Desktop/Tumor/Testing/glioma_tumor')))\n",
    "print(len(os.listdir('C:/Users/hp/Desktop/Tumor/Testing/meningioma_tumor')))\n",
    "print(len(os.listdir('C:/Users/hp/Desktop/Tumor/Testing/no_tumor')))\n",
    "print(len(os.listdir('C:/Users/hp/Desktop/Tumor/Testing/pituitary_tumor')))"
   ]
  },
  {
   "cell_type": "code",
   "execution_count": 4,
   "metadata": {},
   "outputs": [],
   "source": [
    "model = tf.keras.Sequential([\n",
    "    tf.keras.layers.Conv2D(16, (3,3), activation='relu', input_shape=(150,150,3)),\n",
    "    tf.keras.layers.MaxPooling2D(2, 2),\n",
    "    tf.keras.layers.Conv2D(32, (3,3), activation='relu'),\n",
    "    tf.keras.layers.MaxPooling2D(2, 2),\n",
    "    tf.keras.layers.Dropout(0.3),\n",
    "    tf.keras.layers.Conv2D(64, (3,3), activation='relu'),\n",
    "    tf.keras.layers.MaxPooling2D(2,2),\n",
    "    tf.keras.layers.Conv2D(128, (3,3), activation='relu'),\n",
    "    tf.keras.layers.MaxPooling2D(2, 2),\n",
    "    tf.keras.layers.Conv2D(256, (3,3), activation='relu'),\n",
    "    tf.keras.layers.MaxPooling2D(2,2),\n",
    "    tf.keras.layers.Flatten(),\n",
    "    tf.keras.layers.Dense(512, activation='relu'),\n",
    "    tf.keras.layers.Dense(4, activation='softmax')\n",
    "])\n",
    "\n",
    "model.compile(optimizer = tf.keras.optimizers.RMSprop(lr=0.001),\n",
    "             loss='categorical_crossentropy',\n",
    "             metrics=['accuracy']\n",
    "             )\n"
   ]
  },
  {
   "cell_type": "code",
   "execution_count": 5,
   "metadata": {},
   "outputs": [
    {
     "name": "stdout",
     "output_type": "stream",
     "text": [
      "Model: \"sequential\"\n",
      "_________________________________________________________________\n",
      "Layer (type)                 Output Shape              Param #   \n",
      "=================================================================\n",
      "conv2d (Conv2D)              (None, 148, 148, 16)      448       \n",
      "_________________________________________________________________\n",
      "max_pooling2d (MaxPooling2D) (None, 74, 74, 16)        0         \n",
      "_________________________________________________________________\n",
      "conv2d_1 (Conv2D)            (None, 72, 72, 32)        4640      \n",
      "_________________________________________________________________\n",
      "max_pooling2d_1 (MaxPooling2 (None, 36, 36, 32)        0         \n",
      "_________________________________________________________________\n",
      "dropout (Dropout)            (None, 36, 36, 32)        0         \n",
      "_________________________________________________________________\n",
      "conv2d_2 (Conv2D)            (None, 34, 34, 64)        18496     \n",
      "_________________________________________________________________\n",
      "max_pooling2d_2 (MaxPooling2 (None, 17, 17, 64)        0         \n",
      "_________________________________________________________________\n",
      "conv2d_3 (Conv2D)            (None, 15, 15, 128)       73856     \n",
      "_________________________________________________________________\n",
      "max_pooling2d_3 (MaxPooling2 (None, 7, 7, 128)         0         \n",
      "_________________________________________________________________\n",
      "conv2d_4 (Conv2D)            (None, 5, 5, 256)         295168    \n",
      "_________________________________________________________________\n",
      "max_pooling2d_4 (MaxPooling2 (None, 2, 2, 256)         0         \n",
      "_________________________________________________________________\n",
      "flatten (Flatten)            (None, 1024)              0         \n",
      "_________________________________________________________________\n",
      "dense (Dense)                (None, 512)               524800    \n",
      "_________________________________________________________________\n",
      "dense_1 (Dense)              (None, 4)                 2052      \n",
      "=================================================================\n",
      "Total params: 919,460\n",
      "Trainable params: 919,460\n",
      "Non-trainable params: 0\n",
      "_________________________________________________________________\n"
     ]
    }
   ],
   "source": [
    "model.summary()"
   ]
  },
  {
   "cell_type": "code",
   "execution_count": 6,
   "metadata": {},
   "outputs": [
    {
     "name": "stdout",
     "output_type": "stream",
     "text": [
      "Found 2870 images belonging to 4 classes.\n"
     ]
    }
   ],
   "source": [
    "from tensorflow.keras.preprocessing.image import ImageDataGenerator\n",
    "TRAINING_DIR = 'C:/Users/hp/Desktop/Tumor/Training/'\n",
    "train_datagen = ImageDataGenerator(rescale=1/255)\n",
    "train_generator = train_datagen.flow_from_directory(TRAINING_DIR,\n",
    "                                                   target_size=(150,150),\n",
    "                                                   batch_size=82,\n",
    "                                                   class_mode='categorical')"
   ]
  },
  {
   "cell_type": "code",
   "execution_count": 7,
   "metadata": {},
   "outputs": [
    {
     "name": "stdout",
     "output_type": "stream",
     "text": [
      "WARNING:tensorflow:sample_weight modes were coerced from\n",
      "  ...\n",
      "    to  \n",
      "  ['...']\n",
      "Train for 35 steps\n",
      "Epoch 1/15\n",
      "35/35 [==============================] - 82s 2s/step - loss: 1.2814 - accuracy: 0.4115\n",
      "Epoch 2/15\n",
      "35/35 [==============================] - 60s 2s/step - loss: 1.0350 - accuracy: 0.5415\n",
      "Epoch 3/15\n",
      "35/35 [==============================] - 62s 2s/step - loss: 0.8593 - accuracy: 0.6279\n",
      "Epoch 4/15\n",
      "35/35 [==============================] - 61s 2s/step - loss: 0.7435 - accuracy: 0.6819\n",
      "Epoch 5/15\n",
      "35/35 [==============================] - 61s 2s/step - loss: 0.6171 - accuracy: 0.7432\n",
      "Epoch 6/15\n",
      "35/35 [==============================] - 61s 2s/step - loss: 0.4837 - accuracy: 0.8056\n",
      "Epoch 7/15\n",
      "35/35 [==============================] - 61s 2s/step - loss: 0.4278 - accuracy: 0.8237\n",
      "Epoch 8/15\n",
      "35/35 [==============================] - 61s 2s/step - loss: 0.3146 - accuracy: 0.8791\n",
      "Epoch 9/15\n",
      "35/35 [==============================] - 61s 2s/step - loss: 0.2647 - accuracy: 0.9094\n",
      "Epoch 10/15\n",
      "35/35 [==============================] - 61s 2s/step - loss: 0.2397 - accuracy: 0.9105\n",
      "Epoch 11/15\n",
      "35/35 [==============================] - 61s 2s/step - loss: 0.1847 - accuracy: 0.9366\n",
      "Epoch 12/15\n",
      "35/35 [==============================] - 61s 2s/step - loss: 0.1363 - accuracy: 0.9540\n",
      "Epoch 13/15\n",
      "35/35 [==============================] - 61s 2s/step - loss: 0.0985 - accuracy: 0.9620\n",
      "Epoch 14/15\n",
      "35/35 [==============================] - 61s 2s/step - loss: 0.1500 - accuracy: 0.9557\n",
      "Epoch 15/15\n",
      "35/35 [==============================] - 62s 2s/step - loss: 0.1235 - accuracy: 0.9592\n"
     ]
    }
   ],
   "source": [
    "history = model.fit(\n",
    "    train_generator,\n",
    "    epochs=15,\n",
    "    steps_per_epoch= 35,\n",
    "    verbose=1 \n",
    ")"
   ]
  },
  {
   "cell_type": "code",
   "execution_count": 8,
   "metadata": {},
   "outputs": [
    {
     "name": "stdout",
     "output_type": "stream",
     "text": [
      "Found 2870 images belonging to 4 classes.\n"
     ]
    }
   ],
   "source": [
    "TEST_DIR = 'C:/Users/hp/Desktop/Tumor/Testing/'\n",
    "test_datagen = ImageDataGenerator(rescale=1/255)\n",
    "test_generator = test_datagen.flow_from_directory(TRAINING_DIR,\n",
    "                                                   target_size=(150,150),\n",
    "                                                   batch_size=82,\n",
    "                                                   class_mode='categorical')"
   ]
  },
  {
   "cell_type": "code",
   "execution_count": 9,
   "metadata": {},
   "outputs": [
    {
     "name": "stdout",
     "output_type": "stream",
     "text": [
      "WARNING:tensorflow:sample_weight modes were coerced from\n",
      "  ...\n",
      "    to  \n",
      "  ['...']\n",
      "35/35 [==============================] - 29s 839ms/step - loss: 0.0162 - accuracy: 0.9983\n",
      "Testscore: 0.016152913183239952\n",
      "Test accuracy: 0.9982578\n"
     ]
    }
   ],
   "source": [
    "score = model.evaluate(test_generator,verbose=1)\n",
    "print('Testscore:', score[0])\n",
    "print('Test accuracy:', score[1])"
   ]
  },
  {
   "cell_type": "code",
   "execution_count": null,
   "metadata": {},
   "outputs": [],
   "source": []
  },
  {
   "cell_type": "code",
   "execution_count": null,
   "metadata": {},
   "outputs": [],
   "source": []
  }
 ],
 "metadata": {
  "kernelspec": {
   "display_name": "Python 3",
   "language": "python",
   "name": "python3"
  },
  "language_info": {
   "codemirror_mode": {
    "name": "ipython",
    "version": 3
   },
   "file_extension": ".py",
   "mimetype": "text/x-python",
   "name": "python",
   "nbconvert_exporter": "python",
   "pygments_lexer": "ipython3",
   "version": "3.7.4"
  }
 },
 "nbformat": 4,
 "nbformat_minor": 4
}
